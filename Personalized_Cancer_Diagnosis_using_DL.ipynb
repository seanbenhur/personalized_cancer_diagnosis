{
  "nbformat": 4,
  "nbformat_minor": 0,
  "metadata": {
    "colab": {
      "name": "Personalized Cancer Diagnosis using DL.ipynb",
      "provenance": [],
      "collapsed_sections": []
    },
    "kernelspec": {
      "name": "python3",
      "display_name": "Python 3"
    },
    "accelerator": "GPU"
  },
  "cells": [
    {
      "cell_type": "markdown",
      "metadata": {
        "id": "ozJjDqYZDboi"
      },
      "source": [
        "# Personalized Cancer Diagnosis using Deep Learning"
      ]
    },
    {
      "cell_type": "code",
      "metadata": {
        "id": "QkpefeLgCVPr",
        "outputId": "88b20465-97f5-4ea7-ec34-fb95f48c2a49",
        "colab": {
          "base_uri": "https://localhost:8080/",
          "height": 68
        }
      },
      "source": [
        "import tensorflow as tf\n",
        "import numpy as np\n",
        "import pandas as pd\n",
        "import matplotlib.pyplot as plt\n",
        "import re\n",
        "import time\n",
        "import nltk\n",
        "from nltk.corpus import stopwords\n",
        "from tensorflow.keras.models import Sequential\n",
        "from tensorflow.keras.layers import Dense,LSTM,SimpleRNN,GRU\n",
        "from tensorflow.keras.layers import Dropout\n",
        "from tensorflow.keras.preprocessing.text import Tokenizer\n",
        "from tensorflow.keras.callbacks import EarlyStopping,ModelCheckpoint\n",
        "from tensorflow.keras.layers import Embedding\n",
        "from tensorflow.keras.preprocessing.sequence import pad_sequences\n",
        "nltk.download('stopwords')"
      ],
      "execution_count": 1,
      "outputs": [
        {
          "output_type": "stream",
          "text": [
            "[nltk_data] Downloading package stopwords to /root/nltk_data...\n",
            "[nltk_data]   Unzipping corpora/stopwords.zip.\n"
          ],
          "name": "stdout"
        },
        {
          "output_type": "execute_result",
          "data": {
            "text/plain": [
              "True"
            ]
          },
          "metadata": {
            "tags": []
          },
          "execution_count": 1
        }
      ]
    },
    {
      "cell_type": "code",
      "metadata": {
        "id": "rbWNvzBvC3YA",
        "outputId": "c23514a4-f7b3-4414-bb2e-ba5e2a98e01e",
        "colab": {
          "base_uri": "https://localhost:8080/",
          "height": 255
        }
      },
      "source": [
        "print('-'*10,'Train variants','-'*10)\n",
        "train_variants_path = '/content/drive/My Drive/data/personalized medicine/training_variants'\n",
        "train_variants = pd.read_csv(train_variants_path)\n",
        "print(train_variants.head())\n",
        "print('-'*10,'Test variants','-'*10)\n",
        "test_variants_path = '/content/drive/My Drive/data/personalized medicine/test_variants'\n",
        "test_variants = pd.read_csv(test_variants_path)\n",
        "print(test_variants.head())"
      ],
      "execution_count": 2,
      "outputs": [
        {
          "output_type": "stream",
          "text": [
            "---------- Train variants ----------\n",
            "   ID    Gene             Variation  Class\n",
            "0   0  FAM58A  Truncating Mutations      1\n",
            "1   1     CBL                 W802*      2\n",
            "2   2     CBL                 Q249E      2\n",
            "3   3     CBL                 N454D      3\n",
            "4   4     CBL                 L399V      4\n",
            "---------- Test variants ----------\n",
            "   ID     Gene Variation\n",
            "0   0    ACSL4     R570S\n",
            "1   1    NAGLU     P521L\n",
            "2   2      PAH     L333F\n",
            "3   3     ING1     A148D\n",
            "4   4  TMEM216      G77A\n"
          ],
          "name": "stdout"
        }
      ]
    },
    {
      "cell_type": "code",
      "metadata": {
        "id": "lqbloE8uDY11",
        "outputId": "dde7e454-c9bb-4b73-d733-e91dbee7e68e",
        "colab": {
          "base_uri": "https://localhost:8080/",
          "height": 343
        }
      },
      "source": [
        "print('-'*10,'Train text','-'*10)\n",
        "train_text_path = '/content/drive/My Drive/data/personalized medicine/training_text'\n",
        "train_text = pd.read_csv(train_text_path,sep='\\|\\|', header=None, skiprows=1, names=[\"ID\",\"Text\"])\n",
        "print(train_text.head())\n",
        "print('-'*10,'Test text','-'*10)\n",
        "test_text_path = '/content/drive/My Drive/data/personalized medicine/test_text'\n",
        "test_text = pd.read_csv(test_text_path,sep='\\|\\|', header=None, skiprows=1, names=[\"ID\",\"Text\"])\n",
        "print(test_text.head())"
      ],
      "execution_count": 3,
      "outputs": [
        {
          "output_type": "stream",
          "text": [
            "---------- Train text ----------\n"
          ],
          "name": "stdout"
        },
        {
          "output_type": "stream",
          "text": [
            "/usr/local/lib/python3.6/dist-packages/ipykernel_launcher.py:3: ParserWarning: Falling back to the 'python' engine because the 'c' engine does not support regex separators (separators > 1 char and different from '\\s+' are interpreted as regex); you can avoid this warning by specifying engine='python'.\n",
            "  This is separate from the ipykernel package so we can avoid doing imports until\n"
          ],
          "name": "stderr"
        },
        {
          "output_type": "stream",
          "text": [
            "   ID                                               Text\n",
            "0   0  Cyclin-dependent kinases (CDKs) regulate a var...\n",
            "1   1   Abstract Background  Non-small cell lung canc...\n",
            "2   2   Abstract Background  Non-small cell lung canc...\n",
            "3   3  Recent evidence has demonstrated that acquired...\n",
            "4   4  Oncogenic mutations in the monomeric Casitas B...\n",
            "---------- Test text ----------\n"
          ],
          "name": "stdout"
        },
        {
          "output_type": "stream",
          "text": [
            "/usr/local/lib/python3.6/dist-packages/ipykernel_launcher.py:7: ParserWarning: Falling back to the 'python' engine because the 'c' engine does not support regex separators (separators > 1 char and different from '\\s+' are interpreted as regex); you can avoid this warning by specifying engine='python'.\n",
            "  import sys\n"
          ],
          "name": "stderr"
        },
        {
          "output_type": "stream",
          "text": [
            "   ID                                               Text\n",
            "0   0  2. This mutation resulted in a myeloproliferat...\n",
            "1   1   Abstract The Large Tumor Suppressor 1 (LATS1)...\n",
            "2   2  Vascular endothelial growth factor receptor (V...\n",
            "3   3  Inflammatory myofibroblastic tumor (IMT) is a ...\n",
            "4   4   Abstract Retinoblastoma is a pediatric retina...\n"
          ],
          "name": "stdout"
        }
      ]
    },
    {
      "cell_type": "code",
      "metadata": {
        "id": "oeGJlDGiE2lm",
        "outputId": "82f50f02-6b1d-4332-910d-54f69434bf9c",
        "colab": {
          "base_uri": "https://localhost:8080/",
          "height": 204
        }
      },
      "source": [
        "train_data = pd.merge(train_variants, train_text, how='left', on='ID')\n",
        "train_data.head()"
      ],
      "execution_count": 4,
      "outputs": [
        {
          "output_type": "execute_result",
          "data": {
            "text/html": [
              "<div>\n",
              "<style scoped>\n",
              "    .dataframe tbody tr th:only-of-type {\n",
              "        vertical-align: middle;\n",
              "    }\n",
              "\n",
              "    .dataframe tbody tr th {\n",
              "        vertical-align: top;\n",
              "    }\n",
              "\n",
              "    .dataframe thead th {\n",
              "        text-align: right;\n",
              "    }\n",
              "</style>\n",
              "<table border=\"1\" class=\"dataframe\">\n",
              "  <thead>\n",
              "    <tr style=\"text-align: right;\">\n",
              "      <th></th>\n",
              "      <th>ID</th>\n",
              "      <th>Gene</th>\n",
              "      <th>Variation</th>\n",
              "      <th>Class</th>\n",
              "      <th>Text</th>\n",
              "    </tr>\n",
              "  </thead>\n",
              "  <tbody>\n",
              "    <tr>\n",
              "      <th>0</th>\n",
              "      <td>0</td>\n",
              "      <td>FAM58A</td>\n",
              "      <td>Truncating Mutations</td>\n",
              "      <td>1</td>\n",
              "      <td>Cyclin-dependent kinases (CDKs) regulate a var...</td>\n",
              "    </tr>\n",
              "    <tr>\n",
              "      <th>1</th>\n",
              "      <td>1</td>\n",
              "      <td>CBL</td>\n",
              "      <td>W802*</td>\n",
              "      <td>2</td>\n",
              "      <td>Abstract Background  Non-small cell lung canc...</td>\n",
              "    </tr>\n",
              "    <tr>\n",
              "      <th>2</th>\n",
              "      <td>2</td>\n",
              "      <td>CBL</td>\n",
              "      <td>Q249E</td>\n",
              "      <td>2</td>\n",
              "      <td>Abstract Background  Non-small cell lung canc...</td>\n",
              "    </tr>\n",
              "    <tr>\n",
              "      <th>3</th>\n",
              "      <td>3</td>\n",
              "      <td>CBL</td>\n",
              "      <td>N454D</td>\n",
              "      <td>3</td>\n",
              "      <td>Recent evidence has demonstrated that acquired...</td>\n",
              "    </tr>\n",
              "    <tr>\n",
              "      <th>4</th>\n",
              "      <td>4</td>\n",
              "      <td>CBL</td>\n",
              "      <td>L399V</td>\n",
              "      <td>4</td>\n",
              "      <td>Oncogenic mutations in the monomeric Casitas B...</td>\n",
              "    </tr>\n",
              "  </tbody>\n",
              "</table>\n",
              "</div>"
            ],
            "text/plain": [
              "   ID    Gene  ... Class                                               Text\n",
              "0   0  FAM58A  ...     1  Cyclin-dependent kinases (CDKs) regulate a var...\n",
              "1   1     CBL  ...     2   Abstract Background  Non-small cell lung canc...\n",
              "2   2     CBL  ...     2   Abstract Background  Non-small cell lung canc...\n",
              "3   3     CBL  ...     3  Recent evidence has demonstrated that acquired...\n",
              "4   4     CBL  ...     4  Oncogenic mutations in the monomeric Casitas B...\n",
              "\n",
              "[5 rows x 5 columns]"
            ]
          },
          "metadata": {
            "tags": []
          },
          "execution_count": 4
        }
      ]
    },
    {
      "cell_type": "code",
      "metadata": {
        "id": "wR97Xyzrl2I6"
      },
      "source": [
        "x = train_data['Text']\n",
        "y = train_data['Class']\n",
        "y = pd.get_dummies(y).values\n",
        "from sklearn.model_selection import train_test_split\n",
        "x_train,x_test,y_train,y_test = train_test_split(x,y,test_size=0.2,random_state=42,stratify=y)"
      ],
      "execution_count": 7,
      "outputs": []
    },
    {
      "cell_type": "code",
      "metadata": {
        "id": "ITjcDxAIBx0f"
      },
      "source": [
        "vocab_size = 2000\n",
        "max_len=1000\n",
        "tokenizer = Tokenizer(num_words=vocab_size)\n",
        "tokenizer.fit_on_texts(str(x_train))\n",
        "x_train = tokenizer.texts_to_sequences(str(x_train))\n",
        "x_train = pad_sequences(x_train,maxlen=max_len)\n",
        "tokenizer.fit_on_texts(str(x_test))\n",
        "x_test = tokenizer.texts_to_sequences(str(x_test))\n",
        "x_test = pad_sequences(x_test,maxlen=max_len)"
      ],
      "execution_count": 8,
      "outputs": []
    },
    {
      "cell_type": "code",
      "metadata": {
        "id": "2S4-xVldZUT5",
        "outputId": "6df95203-242d-4920-9889-b6f2add26e5e",
        "colab": {
          "base_uri": "https://localhost:8080/",
          "height": 340
        }
      },
      "source": [
        "# size of input layer\n",
        "input_dim = len(x_train[0])\n",
        "\n",
        "model = Sequential()\n",
        "model.add(Dense(32, activation='relu', input_dim=input_dim))\n",
        "model.add(Dropout(0.5))\n",
        "model.add(Dense(32, activation='relu', input_dim=input_dim))\n",
        "model.add(Dropout(0.5))\n",
        "model.add(Dense(9, activation='sigmoid'))\n",
        "\n",
        "print(model.summary())"
      ],
      "execution_count": 9,
      "outputs": [
        {
          "output_type": "stream",
          "text": [
            "Model: \"sequential\"\n",
            "_________________________________________________________________\n",
            "Layer (type)                 Output Shape              Param #   \n",
            "=================================================================\n",
            "dense (Dense)                (None, 32)                32032     \n",
            "_________________________________________________________________\n",
            "dropout (Dropout)            (None, 32)                0         \n",
            "_________________________________________________________________\n",
            "dense_1 (Dense)              (None, 32)                1056      \n",
            "_________________________________________________________________\n",
            "dropout_1 (Dropout)          (None, 32)                0         \n",
            "_________________________________________________________________\n",
            "dense_2 (Dense)              (None, 9)                 297       \n",
            "=================================================================\n",
            "Total params: 33,385\n",
            "Trainable params: 33,385\n",
            "Non-trainable params: 0\n",
            "_________________________________________________________________\n",
            "None\n"
          ],
          "name": "stdout"
        }
      ]
    },
    {
      "cell_type": "code",
      "metadata": {
        "id": "uPFIG-OgZi9z"
      },
      "source": [
        "model.compile(optimizer='Adam',loss='categorical_crossentropy',metrics=['accuracy'])"
      ],
      "execution_count": 10,
      "outputs": []
    },
    {
      "cell_type": "code",
      "metadata": {
        "id": "QCM4LLGQaiUB",
        "outputId": "c6e0c80c-c488-4469-8b42-293b84c4a3f4",
        "colab": {
          "base_uri": "https://localhost:8080/",
          "height": 748
        }
      },
      "source": [
        "callback = EarlyStopping(monitor='loss',patience=5)\n",
        "model.fit(x_train,y_train,epochs=30,batch_size=32,validation_split=0.2,callbacks=callback)"
      ],
      "execution_count": 11,
      "outputs": [
        {
          "output_type": "stream",
          "text": [
            "Epoch 1/30\n",
            "17/17 [==============================] - 0s 11ms/step - loss: 2.1330 - accuracy: 0.2218 - val_loss: 2.0797 - val_accuracy: 0.2059\n",
            "Epoch 2/30\n",
            "17/17 [==============================] - 0s 4ms/step - loss: 2.1145 - accuracy: 0.2311 - val_loss: 2.0428 - val_accuracy: 0.2794\n",
            "Epoch 3/30\n",
            "17/17 [==============================] - 0s 4ms/step - loss: 2.0679 - accuracy: 0.2311 - val_loss: 2.0128 - val_accuracy: 0.2794\n",
            "Epoch 4/30\n",
            "17/17 [==============================] - 0s 4ms/step - loss: 2.0357 - accuracy: 0.2736 - val_loss: 1.9879 - val_accuracy: 0.2794\n",
            "Epoch 5/30\n",
            "17/17 [==============================] - 0s 3ms/step - loss: 2.0036 - accuracy: 0.2551 - val_loss: 1.9710 - val_accuracy: 0.2794\n",
            "Epoch 6/30\n",
            "17/17 [==============================] - 0s 3ms/step - loss: 1.9895 - accuracy: 0.2773 - val_loss: 1.9568 - val_accuracy: 0.2794\n",
            "Epoch 7/30\n",
            "17/17 [==============================] - 0s 3ms/step - loss: 1.9771 - accuracy: 0.2754 - val_loss: 1.9475 - val_accuracy: 0.2794\n",
            "Epoch 8/30\n",
            "17/17 [==============================] - 0s 3ms/step - loss: 1.9585 - accuracy: 0.2717 - val_loss: 1.9377 - val_accuracy: 0.2794\n",
            "Epoch 9/30\n",
            "17/17 [==============================] - 0s 3ms/step - loss: 1.9719 - accuracy: 0.2810 - val_loss: 1.9313 - val_accuracy: 0.2794\n",
            "Epoch 10/30\n",
            "17/17 [==============================] - 0s 4ms/step - loss: 1.9477 - accuracy: 0.2699 - val_loss: 1.9232 - val_accuracy: 0.2794\n",
            "Epoch 11/30\n",
            "17/17 [==============================] - 0s 3ms/step - loss: 1.9457 - accuracy: 0.2828 - val_loss: 1.9136 - val_accuracy: 0.2794\n",
            "Epoch 12/30\n",
            "17/17 [==============================] - 0s 3ms/step - loss: 1.9290 - accuracy: 0.2551 - val_loss: 1.9078 - val_accuracy: 0.2794\n",
            "Epoch 13/30\n",
            "17/17 [==============================] - 0s 3ms/step - loss: 1.9208 - accuracy: 0.2773 - val_loss: 1.9038 - val_accuracy: 0.2794\n",
            "Epoch 14/30\n",
            "17/17 [==============================] - 0s 4ms/step - loss: 1.9167 - accuracy: 0.2754 - val_loss: 1.8970 - val_accuracy: 0.2794\n",
            "Epoch 15/30\n",
            "17/17 [==============================] - 0s 3ms/step - loss: 1.9103 - accuracy: 0.2865 - val_loss: 1.8942 - val_accuracy: 0.2794\n",
            "Epoch 16/30\n",
            "17/17 [==============================] - 0s 3ms/step - loss: 1.8946 - accuracy: 0.2791 - val_loss: 1.8886 - val_accuracy: 0.2794\n",
            "Epoch 17/30\n",
            "17/17 [==============================] - 0s 4ms/step - loss: 1.9062 - accuracy: 0.2865 - val_loss: 1.8838 - val_accuracy: 0.2794\n",
            "Epoch 18/30\n",
            "17/17 [==============================] - 0s 3ms/step - loss: 1.8996 - accuracy: 0.2976 - val_loss: 1.8804 - val_accuracy: 0.2794\n",
            "Epoch 19/30\n",
            "17/17 [==============================] - 0s 4ms/step - loss: 1.9042 - accuracy: 0.2865 - val_loss: 1.8757 - val_accuracy: 0.2794\n",
            "Epoch 20/30\n",
            "17/17 [==============================] - 0s 3ms/step - loss: 1.9067 - accuracy: 0.2847 - val_loss: 1.8701 - val_accuracy: 0.2794\n",
            "Epoch 21/30\n",
            "17/17 [==============================] - 0s 3ms/step - loss: 1.8977 - accuracy: 0.2828 - val_loss: 1.8699 - val_accuracy: 0.2794\n"
          ],
          "name": "stdout"
        },
        {
          "output_type": "execute_result",
          "data": {
            "text/plain": [
              "<tensorflow.python.keras.callbacks.History at 0x7f2dc007c780>"
            ]
          },
          "metadata": {
            "tags": []
          },
          "execution_count": 11
        }
      ]
    },
    {
      "cell_type": "code",
      "metadata": {
        "id": "F5VpB84c0jML",
        "outputId": "bc402ed9-72f9-4913-c9b3-4cdf6bda4c17",
        "colab": {
          "base_uri": "https://localhost:8080/",
          "height": 34
        }
      },
      "source": [
        "test_x = x_test[11:]\n",
        "test_x.shape"
      ],
      "execution_count": 27,
      "outputs": [
        {
          "output_type": "execute_result",
          "data": {
            "text/plain": [
              "(665, 1000)"
            ]
          },
          "metadata": {
            "tags": []
          },
          "execution_count": 27
        }
      ]
    },
    {
      "cell_type": "code",
      "metadata": {
        "id": "xfFxhxCD-cU4",
        "outputId": "c9f53c51-ff51-4d2a-e82c-397b2ae5e18c",
        "colab": {
          "base_uri": "https://localhost:8080/",
          "height": 34
        }
      },
      "source": [
        "from sklearn.metrics  import log_loss\n",
        "probas = model.predict(test_x)\n",
        "pred_indices = np.argmax(probas,axis=1)\n",
        "classes = np.array(range(1,10))\n",
        "print('Log loss: {}'.format(log_loss(classes[np.argmax(y_test, axis=1)], probas)))"
      ],
      "execution_count": 30,
      "outputs": [
        {
          "output_type": "stream",
          "text": [
            "Log loss: 1.8796060477880607\n"
          ],
          "name": "stdout"
        }
      ]
    },
    {
      "cell_type": "code",
      "metadata": {
        "id": "iYbyaQ4rboAO",
        "outputId": "99a6000f-090a-4bd5-a8ed-ebf2610f181a",
        "colab": {
          "base_uri": "https://localhost:8080/",
          "height": 343
        }
      },
      "source": [
        "embed_dim = 128\n",
        "lstm_out = 196\n",
        "# Model saving callback\n",
        "checkpt_callback = ModelCheckpoint('keras_model', \n",
        "                                 monitor='val_loss', \n",
        "                                 verbose=1, \n",
        "                                 save_best_only=True, \n",
        "                                 mode='auto')\n",
        "\n",
        "model = Sequential()\n",
        "model.add(Embedding(vocab_size, embed_dim, input_length = input_dim))\n",
        "model.add(LSTM(lstm_out, recurrent_dropout=0.2, dropout=0.2,return_sequences=True))\n",
        "model.add(LSTM(64))\n",
        "model.add(Dense(9,activation='softmax'))\n",
        "model.compile(loss = 'categorical_crossentropy', optimizer='adam', metrics = ['categorical_crossentropy'])\n",
        "print(model.summary())"
      ],
      "execution_count": 38,
      "outputs": [
        {
          "output_type": "stream",
          "text": [
            "WARNING:tensorflow:Layer lstm_3 will not use cuDNN kernel since it doesn't meet the cuDNN kernel criteria. It will use generic GPU kernel as fallback when running on GPU\n",
            "Model: \"sequential_3\"\n",
            "_________________________________________________________________\n",
            "Layer (type)                 Output Shape              Param #   \n",
            "=================================================================\n",
            "embedding_2 (Embedding)      (None, 1000, 128)         256000    \n",
            "_________________________________________________________________\n",
            "lstm_3 (LSTM)                (None, 1000, 196)         254800    \n",
            "_________________________________________________________________\n",
            "lstm_4 (LSTM)                (None, 64)                66816     \n",
            "_________________________________________________________________\n",
            "dense_4 (Dense)              (None, 9)                 585       \n",
            "=================================================================\n",
            "Total params: 578,201\n",
            "Trainable params: 578,201\n",
            "Non-trainable params: 0\n",
            "_________________________________________________________________\n",
            "None\n"
          ],
          "name": "stdout"
        }
      ]
    },
    {
      "cell_type": "code",
      "metadata": {
        "id": "08mZVPfOd0lv",
        "outputId": "ac3fe784-09ad-4f07-df21-1b5828a3db62",
        "colab": {
          "base_uri": "https://localhost:8080/",
          "height": 853
        }
      },
      "source": [
        "model.fit(x_train,y_train,epochs=10,batch_size=64,validation_split=0.2,callbacks=[callback,checkpt_callback])"
      ],
      "execution_count": 42,
      "outputs": [
        {
          "output_type": "stream",
          "text": [
            "Epoch 1/10\n",
            "9/9 [==============================] - ETA: 0s - loss: 2.0479 - categorical_crossentropy: 2.0479\n",
            "Epoch 00001: val_loss improved from inf to 1.80193, saving model to keras_model\n",
            "WARNING:tensorflow:From /usr/local/lib/python3.6/dist-packages/tensorflow/python/training/tracking/tracking.py:111: Model.state_updates (from tensorflow.python.keras.engine.training) is deprecated and will be removed in a future version.\n",
            "Instructions for updating:\n",
            "This property should not be used in TensorFlow 2.0, as updates are applied automatically.\n",
            "WARNING:tensorflow:From /usr/local/lib/python3.6/dist-packages/tensorflow/python/training/tracking/tracking.py:111: Layer.updates (from tensorflow.python.keras.engine.base_layer) is deprecated and will be removed in a future version.\n",
            "Instructions for updating:\n",
            "This property should not be used in TensorFlow 2.0, as updates are applied automatically.\n",
            "INFO:tensorflow:Assets written to: keras_model/assets\n",
            "9/9 [==============================] - 38s 4s/step - loss: 2.0479 - categorical_crossentropy: 2.0479 - val_loss: 1.8019 - val_categorical_crossentropy: 1.8019\n",
            "Epoch 2/10\n",
            "9/9 [==============================] - ETA: 0s - loss: 1.8847 - categorical_crossentropy: 1.8847\n",
            "Epoch 00002: val_loss did not improve from 1.80193\n",
            "9/9 [==============================] - 31s 3s/step - loss: 1.8847 - categorical_crossentropy: 1.8847 - val_loss: 1.8716 - val_categorical_crossentropy: 1.8716\n",
            "Epoch 3/10\n",
            "9/9 [==============================] - ETA: 0s - loss: 1.8601 - categorical_crossentropy: 1.8601\n",
            "Epoch 00003: val_loss did not improve from 1.80193\n",
            "9/9 [==============================] - 31s 3s/step - loss: 1.8601 - categorical_crossentropy: 1.8601 - val_loss: 1.8460 - val_categorical_crossentropy: 1.8460\n",
            "Epoch 4/10\n",
            "9/9 [==============================] - ETA: 0s - loss: 1.8586 - categorical_crossentropy: 1.8586\n",
            "Epoch 00004: val_loss did not improve from 1.80193\n",
            "9/9 [==============================] - 31s 3s/step - loss: 1.8586 - categorical_crossentropy: 1.8586 - val_loss: 1.8269 - val_categorical_crossentropy: 1.8269\n",
            "Epoch 5/10\n",
            "9/9 [==============================] - ETA: 0s - loss: 1.8552 - categorical_crossentropy: 1.8552\n",
            "Epoch 00005: val_loss did not improve from 1.80193\n",
            "9/9 [==============================] - 31s 3s/step - loss: 1.8552 - categorical_crossentropy: 1.8552 - val_loss: 1.8321 - val_categorical_crossentropy: 1.8321\n",
            "Epoch 6/10\n",
            "9/9 [==============================] - ETA: 0s - loss: 1.8520 - categorical_crossentropy: 1.8520\n",
            "Epoch 00006: val_loss did not improve from 1.80193\n",
            "9/9 [==============================] - 31s 3s/step - loss: 1.8520 - categorical_crossentropy: 1.8520 - val_loss: 1.8452 - val_categorical_crossentropy: 1.8452\n",
            "Epoch 7/10\n",
            "9/9 [==============================] - ETA: 0s - loss: 1.8525 - categorical_crossentropy: 1.8525\n",
            "Epoch 00007: val_loss did not improve from 1.80193\n",
            "9/9 [==============================] - 31s 3s/step - loss: 1.8525 - categorical_crossentropy: 1.8525 - val_loss: 1.8324 - val_categorical_crossentropy: 1.8324\n",
            "Epoch 8/10\n",
            "9/9 [==============================] - ETA: 0s - loss: 1.8482 - categorical_crossentropy: 1.8482\n",
            "Epoch 00008: val_loss did not improve from 1.80193\n",
            "9/9 [==============================] - 31s 3s/step - loss: 1.8482 - categorical_crossentropy: 1.8482 - val_loss: 1.8306 - val_categorical_crossentropy: 1.8306\n",
            "Epoch 9/10\n",
            "9/9 [==============================] - ETA: 0s - loss: 1.8500 - categorical_crossentropy: 1.8500\n",
            "Epoch 00009: val_loss did not improve from 1.80193\n",
            "9/9 [==============================] - 31s 3s/step - loss: 1.8500 - categorical_crossentropy: 1.8500 - val_loss: 1.8334 - val_categorical_crossentropy: 1.8334\n",
            "Epoch 10/10\n",
            "9/9 [==============================] - ETA: 0s - loss: 1.8497 - categorical_crossentropy: 1.8497\n",
            "Epoch 00010: val_loss did not improve from 1.80193\n",
            "9/9 [==============================] - 30s 3s/step - loss: 1.8497 - categorical_crossentropy: 1.8497 - val_loss: 1.8337 - val_categorical_crossentropy: 1.8337\n"
          ],
          "name": "stdout"
        },
        {
          "output_type": "execute_result",
          "data": {
            "text/plain": [
              "<tensorflow.python.keras.callbacks.History at 0x7f2d6e3cbb38>"
            ]
          },
          "metadata": {
            "tags": []
          },
          "execution_count": 42
        }
      ]
    },
    {
      "cell_type": "code",
      "metadata": {
        "id": "EbAH-FxTfnag",
        "outputId": "28835b6c-aac1-439d-c150-81168b155451",
        "colab": {
          "base_uri": "https://localhost:8080/",
          "height": 71
        }
      },
      "source": [
        "model = tf.keras.models.load_model('keras_model')\n",
        "probas = model.predict(test_x)\n",
        "pred_indices = np.argmax(probas,axis=1)\n",
        "classes = np.array(range(1,10))\n",
        "print('Log loss: {}'.format(log_loss(classes[np.argmax(y_test, axis=1)], probas)))"
      ],
      "execution_count": 44,
      "outputs": [
        {
          "output_type": "stream",
          "text": [
            "WARNING:tensorflow:Layer lstm_3 will not use cuDNN kernel since it doesn't meet the cuDNN kernel criteria. It will use generic GPU kernel as fallback when running on GPU\n",
            "Log loss: 1.8477547545182078\n"
          ],
          "name": "stdout"
        }
      ]
    },
    {
      "cell_type": "code",
      "metadata": {
        "id": "BcH0UZ_jAc36"
      },
      "source": [
        ""
      ],
      "execution_count": null,
      "outputs": []
    }
  ]
}